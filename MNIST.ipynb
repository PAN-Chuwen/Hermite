{
  "nbformat": 4,
  "nbformat_minor": 0,
  "metadata": {
    "colab": {
      "provenance": [],
      "toc_visible": true,
      "authorship_tag": "ABX9TyNZnGh2exVNypERMuzIHKLT",
      "include_colab_link": true
    },
    "kernelspec": {
      "name": "python3",
      "display_name": "Python 3"
    },
    "language_info": {
      "name": "python"
    }
  },
  "cells": [
    {
      "cell_type": "markdown",
      "metadata": {
        "id": "view-in-github",
        "colab_type": "text"
      },
      "source": [
        "<a href=\"https://colab.research.google.com/github/Pancw2000/Hermite/blob/main/MNIST.ipynb\" target=\"_parent\"><img src=\"https://colab.research.google.com/assets/colab-badge.svg\" alt=\"Open In Colab\"/></a>"
      ]
    },
    {
      "cell_type": "markdown",
      "source": [
        "#Imports"
      ],
      "metadata": {
        "id": "n-BOZWXzal8Y"
      }
    },
    {
      "cell_type": "code",
      "execution_count": null,
      "metadata": {
        "id": "hz1x_CWHaUPm"
      },
      "outputs": [],
      "source": [
        "import numpy as np\n",
        "import matplotlib.pyplot as plt\n",
        "%matplotlib inline\n",
        "import keras\n",
        "from keras.models import Sequential\n",
        "from keras.layers import Dense, Dropout\n",
        "from sklearn.metrics import confusion_matrix\n",
        "from keras.utils import np_utils\n",
        "import seaborn as sns\n",
        "\n",
        "np.random.seed(0)"
      ]
    },
    {
      "cell_type": "markdown",
      "source": [
        "#Data"
      ],
      "metadata": {
        "id": "-JyrmeNAdhB5"
      }
    },
    {
      "cell_type": "code",
      "source": [
        "from keras.datasets import mnist\n",
        "(x_train, y_train), (x_test, y_test) = mnist.load_data()"
      ],
      "metadata": {
        "id": "emFc1JLtdc_6",
        "colab": {
          "base_uri": "https://localhost:8080/"
        },
        "outputId": "11bb200d-7396-4e6a-9125-4232d08299a1"
      },
      "execution_count": null,
      "outputs": [
        {
          "output_type": "stream",
          "name": "stdout",
          "text": [
            "Downloading data from https://storage.googleapis.com/tensorflow/tf-keras-datasets/mnist.npz\n",
            "11490434/11490434 [==============================] - 0s 0us/step\n"
          ]
        }
      ]
    },
    {
      "cell_type": "code",
      "source": [
        "print(x_train.shape, y_train.shape)\n",
        "print(x_test.shape, y_test.shape)"
      ],
      "metadata": {
        "colab": {
          "base_uri": "https://localhost:8080/"
        },
        "id": "DQdNAq9_dyJA",
        "outputId": "bc933994-7bf9-45e1-a33c-d29edc902a25"
      },
      "execution_count": null,
      "outputs": [
        {
          "output_type": "stream",
          "name": "stdout",
          "text": [
            "(60000, 28, 28) (60000,)\n",
            "(10000, 28, 28) (10000,)\n"
          ]
        }
      ]
    },
    {
      "cell_type": "markdown",
      "source": [
        "#Visualize examples"
      ],
      "metadata": {
        "id": "9-rZZCQ5eC70"
      }
    },
    {
      "cell_type": "code",
      "source": [
        "num_classes = 10\n",
        "f, ax = plt.subplots(1,num_classes,figsize=(20,20))\n",
        "\n",
        "for i in range(0,num_classes):\n",
        "  sample = x_train[y_train == i][0]\n",
        "  ax[i].imshow(sample,cmap='gray')\n",
        "  ax[i].set_title(\"Label:{}\".format(i),fontsize = 16)"
      ],
      "metadata": {
        "colab": {
          "base_uri": "https://localhost:8080/",
          "height": 152
        },
        "id": "ngLpqERpd9i4",
        "outputId": "f31bab5b-f2b9-478c-a232-b067be94ac53"
      },
      "execution_count": null,
      "outputs": [
        {
          "output_type": "display_data",
          "data": {
            "text/plain": [
              "<Figure size 1440x1440 with 10 Axes>"
            ],
            "image/png": "[encoded data removed]"
          },
          "metadata": {
            "needs_background": "light"
          }
        }
      ]
    },
    {
      "cell_type": "code",
      "source": [
        "for i in range(10):\n",
        "  print(y_train[i])"
      ],
      "metadata": {
        "colab": {
          "base_uri": "https://localhost:8080/"
        },
        "id": "w0GeCtQ3mXH1",
        "outputId": "d75bef1c-a17d-4f09-966f-515f03b067b5"
      },
      "execution_count": null,
      "outputs": [
        {
          "output_type": "stream",
          "name": "stdout",
          "text": [
            "5\n",
            "0\n",
            "4\n",
            "1\n",
            "9\n",
            "2\n",
            "1\n",
            "3\n",
            "1\n",
            "4\n"
          ]
        }
      ]
    },
    {
      "cell_type": "code",
      "source": [
        "#one-hot encoding to make data discrete\n",
        "y_train_one_hot_encoded = keras.utils.np_utils.to_categorical(y_train, num_classes)\n",
        "y_test_one_hot_encoded = keras.utils.np_utils.to_categorical(y_test, num_classes)"
      ],
      "metadata": {
        "id": "CT2Xy5BZmcEU"
      },
      "execution_count": null,
      "outputs": []
    },
    {
      "cell_type": "code",
      "source": [
        "for i in range(10):\n",
        "  print(y_train[i])\n",
        "  print(y_train_one_hot_encoded[i])"
      ],
      "metadata": {
        "colab": {
          "base_uri": "https://localhost:8080/"
        },
        "id": "DTYrZ0LSnOEI",
        "outputId": "ee2b27fc-8012-4d15-ef78-ce3a142ff4c5"
      },
      "execution_count": null,
      "outputs": [
        {
          "output_type": "stream",
          "name": "stdout",
          "text": [
            "5\n",
            "[0. 0. 0. 0. 0. 1. 0. 0. 0. 0.]\n",
            "0\n",
            "[1. 0. 0. 0. 0. 0. 0. 0. 0. 0.]\n",
            "4\n",
            "[0. 0. 0. 0. 1. 0. 0. 0. 0. 0.]\n",
            "1\n",
            "[0. 1. 0. 0. 0. 0. 0. 0. 0. 0.]\n",
            "9\n",
            "[0. 0. 0. 0. 0. 0. 0. 0. 0. 1.]\n",
            "2\n",
            "[0. 0. 1. 0. 0. 0. 0. 0. 0. 0.]\n",
            "1\n",
            "[0. 1. 0. 0. 0. 0. 0. 0. 0. 0.]\n",
            "3\n",
            "[0. 0. 0. 1. 0. 0. 0. 0. 0. 0.]\n",
            "1\n",
            "[0. 1. 0. 0. 0. 0. 0. 0. 0. 0.]\n",
            "4\n",
            "[0. 0. 0. 0. 1. 0. 0. 0. 0. 0.]\n"
          ]
        }
      ]
    },
    {
      "cell_type": "markdown",
      "source": [
        "#Prepare Data"
      ],
      "metadata": {
        "id": "HEtJ8djDpETL"
      }
    },
    {
      "cell_type": "code",
      "source": [
        "#data normalization [0,255]->[0,1]\n",
        "x_train = x_train / 255.0\n",
        "x_test = x_test / 255.0"
      ],
      "metadata": {
        "id": "GjEG-Jw9pF7e"
      },
      "execution_count": null,
      "outputs": []
    },
    {
      "cell_type": "code",
      "source": [
        "#28*28 -> 784 2D->1D array\n",
        "x_train_reshaped = x_train.reshape(x_train.shape[0],-1)\n",
        "x_test_reshaped = x_test.reshape(x_test.shape[0],-1)\n",
        "print(x_train.shape)"
      ],
      "metadata": {
        "colab": {
          "base_uri": "https://localhost:8080/"
        },
        "id": "Bbks_7NUhZ2V",
        "outputId": "22ea94ae-a089-4e08-a6fa-34f7a83768dc"
      },
      "execution_count": null,
      "outputs": [
        {
          "output_type": "stream",
          "name": "stdout",
          "text": [
            "(60000, 28, 28)\n"
          ]
        }
      ]
    },
    {
      "cell_type": "markdown",
      "source": [
        "#Build Model"
      ],
      "metadata": {
        "id": "bgyzaDiTjxg_"
      }
    },
    {
      "cell_type": "code",
      "source": [
        "model = Sequential()\n",
        "\n",
        "model.add(Dense(units=128, input_shape=(784,),activation='relu'))\n",
        "model.add(Dense(units=128, activation='relu'))\n",
        "model.add(Dropout(0.25)) \n",
        "model.add(Dense(units=10, activation='softmax'))\n",
        "\n",
        "model.compile(loss='categorical_crossentropy',optimizer='adam',metrics=['accuracy'])\n",
        "# model.compile(optimizer='adam',loss = keras.losses.SparseCategoricalCrossentropy(from_logits=True), metrics=['accuracy'])\n",
        "model.summary()"
      ],
      "metadata": {
        "colab": {
          "base_uri": "https://localhost:8080/"
        },
        "id": "USQ58P5ijwXD",
        "outputId": "1893c6c5-5d71-4f72-a714-57794a09ab40"
      },
      "execution_count": null,
      "outputs": [
        {
          "output_type": "stream",
          "name": "stdout",
          "text": [
            "Model: \"sequential\"\n",
            "_________________________________________________________________\n",
            " Layer (type)                Output Shape              Param #   \n",
            "=================================================================\n",
            " dense (Dense)               (None, 128)               100480    \n",
            "                                                                 \n",
            " dense_1 (Dense)             (None, 128)               16512     \n",
            "                                                                 \n",
            " dropout (Dropout)           (None, 128)               0         \n",
            "                                                                 \n",
            " dense_2 (Dense)             (None, 10)                1290      \n",
            "                                                                 \n",
            "=================================================================\n",
            "Total params: 118,282\n",
            "Trainable params: 118,282\n",
            "Non-trainable params: 0\n",
            "_________________________________________________________________\n"
          ]
        }
      ]
    },
    {
      "cell_type": "markdown",
      "source": [
        "\n",
        "dense \n",
        "dropout\n",
        "\n",
        "**activation** <br>\n",
        "relu \n",
        "softmax\n",
        "<br>\n",
        "compile\n",
        "\n"
      ],
      "metadata": {
        "id": "ZWN26acO4dwk"
      }
    },
    {
      "cell_type": "markdown",
      "source": [
        "#Training stage\n"
      ],
      "metadata": {
        "id": "4qtGxRSX5tBX"
      }
    },
    {
      "cell_type": "code",
      "source": [
        "batch_size = 512\n",
        "epochs = 10\n",
        "model.fit(x=x_train_reshaped, y=y_train_one_hot_encoded, batch_size=batch_size, epochs=epochs)\n",
        "#why 118/118 instead of 60000/60000? 512*118=60416"
      ],
      "metadata": {
        "colab": {
          "base_uri": "https://localhost:8080/"
        },
        "id": "jRCB9BSS5w9o",
        "outputId": "dd03eae7-0f10-4d8b-c09a-98381b0e9764"
      },
      "execution_count": null,
      "outputs": [
        {
          "output_type": "stream",
          "name": "stdout",
          "text": [
            "Epoch 1/10\n",
            "118/118 [==============================] - 3s 19ms/step - loss: 0.5943 - accuracy: 0.8253\n",
            "Epoch 2/10\n",
            "118/118 [==============================] - 2s 16ms/step - loss: 0.2301 - accuracy: 0.9325\n",
            "Epoch 3/10\n",
            "118/118 [==============================] - 2s 18ms/step - loss: 0.1682 - accuracy: 0.9508\n",
            "Epoch 4/10\n",
            "118/118 [==============================] - 2s 16ms/step - loss: 0.1333 - accuracy: 0.9608\n",
            "Epoch 5/10\n",
            "118/118 [==============================] - 1s 11ms/step - loss: 0.1098 - accuracy: 0.9681\n",
            "Epoch 6/10\n",
            "118/118 [==============================] - 1s 9ms/step - loss: 0.0932 - accuracy: 0.9723\n",
            "Epoch 7/10\n",
            "118/118 [==============================] - 1s 9ms/step - loss: 0.0802 - accuracy: 0.9757\n",
            "Epoch 8/10\n",
            "118/118 [==============================] - 1s 9ms/step - loss: 0.0689 - accuracy: 0.9797\n",
            "Epoch 9/10\n",
            "118/118 [==============================] - 1s 9ms/step - loss: 0.0618 - accuracy: 0.9811\n",
            "Epoch 10/10\n",
            "118/118 [==============================] - 1s 9ms/step - loss: 0.0554 - accuracy: 0.9833\n"
          ]
        },
        {
          "output_type": "execute_result",
          "data": {
            "text/plain": [
              "<keras.callbacks.History at 0x7fd8e55bd880>"
            ]
          },
          "metadata": {},
          "execution_count": 11
        }
      ]
    },
    {
      "cell_type": "markdown",
      "source": [
        "#Evaluation stage"
      ],
      "metadata": {
        "id": "PUQpgDSs7dCQ"
      }
    },
    {
      "cell_type": "code",
      "source": [
        "test_loss, test_acc = model.evaluate(x_test_reshaped, y_test_one_hot_encoded)\n",
        "print(\"Test loss: {}, Test accuracy: {}\".format(test_loss, test_acc))\n",
        "#313/313 instead of 10000/10000, coz done in batch"
      ],
      "metadata": {
        "colab": {
          "base_uri": "https://localhost:8080/"
        },
        "id": "hO0svRWp7hqt",
        "outputId": "a7df0a59-3804-40a5-8588-d0abd22c395c"
      },
      "execution_count": null,
      "outputs": [
        {
          "output_type": "stream",
          "name": "stdout",
          "text": [
            "313/313 [==============================] - 1s 2ms/step - loss: 0.0698 - accuracy: 0.9788\n",
            "Test loss: 0.06984111666679382, Test accuracy: 0.9787999987602234\n"
          ]
        }
      ]
    },
    {
      "cell_type": "code",
      "source": [
        "y_pred = model.predict(x_test_reshaped)\n",
        "y_pred_classes = np.argmax(y_pred, axis=1)\n",
        "print(y_pred)\n",
        "print(y_pred_classes)"
      ],
      "metadata": {
        "colab": {
          "base_uri": "https://localhost:8080/"
        },
        "id": "L7TbCt5_8GzM",
        "outputId": "ad2aa4b8-1122-4eee-b803-5889820f0a15"
      },
      "execution_count": null,
      "outputs": [
        {
          "output_type": "stream",
          "name": "stdout",
          "text": [
            "313/313 [==============================] - 1s 1ms/step\n",
            "[[7.69537382e-06 1.34538905e-05 5.32832288e-04 ... 9.99026358e-01\n",
            "  7.82355983e-06 3.23402928e-05]\n",
            " [6.53216077e-08 5.03054798e-05 9.99933660e-01 ... 1.23660016e-09\n",
            "  2.55865302e-06 1.84908928e-11]\n",
            " [2.33754781e-06 9.98577833e-01 3.06123926e-04 ... 7.17094576e-04\n",
            "  1.76514382e-04 8.82065342e-06]\n",
            " ...\n",
            " [7.81725587e-11 1.99453360e-08 1.44732037e-09 ... 9.92801142e-06\n",
            "  3.08071947e-07 3.32359991e-06]\n",
            " [2.27663250e-07 1.19790089e-08 2.94723512e-09 ... 1.29093092e-08\n",
            "  5.73171885e-04 2.58581565e-08]\n",
            " [3.73805076e-09 2.86009671e-11 1.61802974e-10 ... 4.01164087e-14\n",
            "  1.94155514e-09 2.57570548e-10]]\n",
            "[7 2 1 ... 4 5 6]\n"
          ]
        }
      ]
    },
    {
      "cell_type": "code",
      "source": [
        "# random single example\n",
        "random_index = np.random.choice(len(x_test))\n",
        "x_sample = x_test[random_index] #x_sample is 28*28 2d np matrix\n",
        "\n",
        "y_sample_true = y_test[random_index] #y_sample_true is a number\n",
        "y_sample_pred_class = y_pred_classes[random_index] # a number\n",
        "\n",
        "plt.title(\"Predicted: {}, True: {}\".format(y_sample_pred_class, y_sample_true), fontsize=16)\n",
        "plt.imshow(x_sample.reshape(28,28),cmap='gray')"
      ],
      "metadata": {
        "colab": {
          "base_uri": "https://localhost:8080/",
          "height": 301
        },
        "id": "Ju2Jxjrz8bDJ",
        "outputId": "45fc96aa-8c98-48bb-f36b-3273f30b2e23"
      },
      "execution_count": null,
      "outputs": [
        {
          "output_type": "execute_result",
          "data": {
            "text/plain": [
              "<matplotlib.image.AxesImage at 0x7fd8e1d69550>"
            ]
          },
          "metadata": {},
          "execution_count": 14
        },
        {
          "output_type": "display_data",
          "data": {
            "text/plain": [
              "<Figure size 432x288 with 1 Axes>"
            ],
            "image/png": "[encoded data removed]"
          },
          "metadata": {
            "needs_background": "light"
          }
        }
      ]
    },
    {
      "cell_type": "markdown",
      "source": [
        "#Confusion Matrix\n",
        "*Shows how good your neural network is for each class of hand-written digit."
      ],
      "metadata": {
        "id": "bkOWSxnJmPOm"
      }
    },
    {
      "cell_type": "code",
      "source": [
        "confusion_mtx = confusion_matrix(y_test, y_pred_classes)\n",
        "\n",
        "# plot\n",
        "fig, ax = plt.subplots(figsize=(15,10))\n",
        "ax = sns.heatmap(confusion_mtx, annot=True, fmt='d', ax=ax, cmap=\"Blues\")\n",
        "ax.set_xlabel(\"Predicted Label\")\n",
        "ax.set_ylabel(\"True Label\")\n",
        "ax.set_title(\"Confusion Matrix\");\n",
        "\n"
      ],
      "metadata": {
        "colab": {
          "base_uri": "https://localhost:8080/",
          "height": 621
        },
        "id": "mxRlgrKtmmEZ",
        "outputId": "b6062217-e017-43fb-9112-79a203763e03"
      },
      "execution_count": null,
      "outputs": [
        {
          "output_type": "display_data",
          "data": {
            "text/plain": [
              "<Figure size 1080x720 with 2 Axes>"
            ],
            "image/png": "[encoded data removed]"
          },
          "metadata": {
            "needs_background": "light"
          }
        }
      ]
    },
    {
      "cell_type": "markdown",
      "source": [
        "#some errors\n"
      ],
      "metadata": {
        "id": "a_tAi4Avvm-B"
      }
    },
    {
      "cell_type": "code",
      "source": [
        "#select the index with wrong result\n",
        "errors = (y_pred_classes - y_test != 0)\n",
        "y_pred_classes_errors = y_pred_classes[errors]\n",
        "y_pred_errors = y_pred[errors]\n",
        "y_test_errors = y_test[errors]\n",
        "x_test_errors = x_test[errors]\n",
        "# print(y_pred_errors)\n",
        "# print(y_test_errors)"
      ],
      "metadata": {
        "id": "6pcIvcjHvomY"
      },
      "execution_count": null,
      "outputs": []
    },
    {
      "cell_type": "code",
      "source": [
        "# simplified example, helps you to understand code above.\n",
        "a = np.array([1,2,3,4,5,6,7,8])\n",
        "b = np.array([1,0,3,4,5,6,7,0])\n",
        "error_arr = (a - b != 0)\n",
        "print(error_arr)\n",
        "a_errors = a[error_arr]\n",
        "print(a_errors)\n",
        "b_errors = b[error_arr]\n",
        "print(b_errors)"
      ],
      "metadata": {
        "colab": {
          "base_uri": "https://localhost:8080/"
        },
        "id": "IfWCyBwEz8Db",
        "outputId": "567cce63-a870-4a44-d537-8b0fd0615096"
      },
      "execution_count": null,
      "outputs": [
        {
          "output_type": "stream",
          "name": "stdout",
          "text": [
            "[False  True False False False False False  True]\n",
            "[2 8]\n",
            "[0 0]\n"
          ]
        }
      ]
    },
    {
      "cell_type": "code",
      "source": [
        "#try to find the error with the most deviation\n",
        "y_pred_errors_probability = np.max(y_pred_errors,axis=1) #the brightest neuron(which is predicted wrongly)\n",
        "y_probability_errors = np.diagonal(np.take(y_pred_errors,y_test_errors, axis=1))\n",
        "#the brightness of neuron which should be the right answer\n",
        "\n",
        "brightness_diff = y_pred_errors_probability - y_probability_errors #brightness difference\n",
        "\n",
        "#sort\n",
        "sorted_brightness_diff = np.argsort(brightness_diff)\n",
        "top_brightness_diff = sorted_brightness_diff[-5:]\n",
        "print(top_brightness_diff)\n"
      ],
      "metadata": {
        "colab": {
          "base_uri": "https://localhost:8080/"
        },
        "id": "uwR81tJD0vbv",
        "outputId": "c18a5713-e767-4300-9e80-01710f9a1fab"
      },
      "execution_count": null,
      "outputs": [
        {
          "output_type": "stream",
          "name": "stdout",
          "text": [
            "[202 159 160  81 197]\n"
          ]
        }
      ]
    },
    {
      "cell_type": "code",
      "source": [
        "num = len(top_brightness_diff)\n",
        "f, ax = plt.subplots(1 ,num, figsize=(20,20))\n",
        "print(ax)\n",
        "\n",
        "for i in range(0, num):\n",
        "  idx = top_brightness_diff[i]\n",
        "  sample = x_test_errors[idx]\n",
        "  y_t = y_test_errors[idx]\n",
        "  y_p = y_pred_classes_errors[idx]\n",
        "  ax[i].imshow(sample, cmap='gray')\n",
        "  ax[i].set_title(\"Predicted label :{}\\nCorrect Label: {}\".format(y_p, y_t))\n"
      ],
      "metadata": {
        "colab": {
          "base_uri": "https://localhost:8080/",
          "height": 347
        },
        "id": "A2WI4eWz_GM3",
        "outputId": "bb5623cf-919d-4091-ef9c-021fbd1faade"
      },
      "execution_count": null,
      "outputs": [
        {
          "output_type": "stream",
          "name": "stdout",
          "text": [
            "[<matplotlib.axes._subplots.AxesSubplot object at 0x7fd8e5372280>\n",
            " <matplotlib.axes._subplots.AxesSubplot object at 0x7fd8e527b2e0>\n",
            " <matplotlib.axes._subplots.AxesSubplot object at 0x7fd8e522b820>\n",
            " <matplotlib.axes._subplots.AxesSubplot object at 0x7fd8e51d60a0>\n",
            " <matplotlib.axes._subplots.AxesSubplot object at 0x7fd8e518c6a0>]\n"
          ]
        },
        {
          "output_type": "display_data",
          "data": {
            "text/plain": [
              "<Figure size 1440x1440 with 5 Axes>"
            ],
            "image/png": "[encoded data removed]"
          },
          "metadata": {
            "needs_background": "light"
          }
        }
      ]
    }
  ]
}